{
 "cells": [
  {
   "cell_type": "code",
   "execution_count": 1,
   "metadata": {},
   "outputs": [
    {
     "name": "stdout",
     "output_type": "stream",
     "text": [
      "The \"try\" statement\n",
      "*******************\n",
      "\n",
      "The \"try\" statement specifies exception handlers and/or cleanup code\n",
      "for a group of statements:\n",
      "\n",
      "   try_stmt  ::= try1_stmt | try2_stmt\n",
      "   try1_stmt ::= \"try\" \":\" suite\n",
      "                 (\"except\" [expression [\"as\" identifier]] \":\" suite)+\n",
      "                 [\"else\" \":\" suite]\n",
      "                 [\"finally\" \":\" suite]\n",
      "   try2_stmt ::= \"try\" \":\" suite\n",
      "                 \"finally\" \":\" suite\n",
      "\n",
      "The \"except\" clause(s) specify one or more exception handlers. When no\n",
      "exception occurs in the \"try\" clause, no exception handler is\n",
      "executed. When an exception occurs in the \"try\" suite, a search for an\n",
      "exception handler is started.  This search inspects the except clauses\n",
      "in turn until one is found that matches the exception.  An expression-\n",
      "less except clause, if present, must be last; it matches any\n",
      "exception.  For an except clause with an expression, that expression\n",
      "is evaluated, and the clause matches the exception if the resulting\n",
      "object is “compatible” with the exception.  An object is compatible\n",
      "with an exception if it is the class or a base class of the exception\n",
      "object, or a tuple containing an item that is the class or a base\n",
      "class of the exception object.\n",
      "\n",
      "If no except clause matches the exception, the search for an exception\n",
      "handler continues in the surrounding code and on the invocation stack.\n",
      "[1]\n",
      "\n",
      "If the evaluation of an expression in the header of an except clause\n",
      "raises an exception, the original search for a handler is canceled and\n",
      "a search starts for the new exception in the surrounding code and on\n",
      "the call stack (it is treated as if the entire \"try\" statement raised\n",
      "the exception).\n",
      "\n",
      "When a matching except clause is found, the exception is assigned to\n",
      "the target specified after the \"as\" keyword in that except clause, if\n",
      "present, and the except clause’s suite is executed.  All except\n",
      "clauses must have an executable block.  When the end of this block is\n",
      "reached, execution continues normally after the entire try statement.\n",
      "(This means that if two nested handlers exist for the same exception,\n",
      "and the exception occurs in the try clause of the inner handler, the\n",
      "outer handler will not handle the exception.)\n",
      "\n",
      "When an exception has been assigned using \"as target\", it is cleared\n",
      "at the end of the except clause.  This is as if\n",
      "\n",
      "   except E as N:\n",
      "       foo\n",
      "\n",
      "was translated to\n",
      "\n",
      "   except E as N:\n",
      "       try:\n",
      "           foo\n",
      "       finally:\n",
      "           del N\n",
      "\n",
      "This means the exception must be assigned to a different name to be\n",
      "able to refer to it after the except clause.  Exceptions are cleared\n",
      "because with the traceback attached to them, they form a reference\n",
      "cycle with the stack frame, keeping all locals in that frame alive\n",
      "until the next garbage collection occurs.\n",
      "\n",
      "Before an except clause’s suite is executed, details about the\n",
      "exception are stored in the \"sys\" module and can be accessed via\n",
      "\"sys.exc_info()\". \"sys.exc_info()\" returns a 3-tuple consisting of the\n",
      "exception class, the exception instance and a traceback object (see\n",
      "section The standard type hierarchy) identifying the point in the\n",
      "program where the exception occurred.  \"sys.exc_info()\" values are\n",
      "restored to their previous values (before the call) when returning\n",
      "from a function that handled an exception.\n",
      "\n",
      "The optional \"else\" clause is executed if the control flow leaves the\n",
      "\"try\" suite, no exception was raised, and no \"return\", \"continue\", or\n",
      "\"break\" statement was executed.  Exceptions in the \"else\" clause are\n",
      "not handled by the preceding \"except\" clauses.\n",
      "\n",
      "If \"finally\" is present, it specifies a ‘cleanup’ handler.  The \"try\"\n",
      "clause is executed, including any \"except\" and \"else\" clauses.  If an\n",
      "exception occurs in any of the clauses and is not handled, the\n",
      "exception is temporarily saved. The \"finally\" clause is executed.  If\n",
      "there is a saved exception it is re-raised at the end of the \"finally\"\n",
      "clause.  If the \"finally\" clause raises another exception, the saved\n",
      "exception is set as the context of the new exception. If the \"finally\"\n",
      "clause executes a \"return\", \"break\" or \"continue\" statement, the saved\n",
      "exception is discarded:\n",
      "\n",
      "   >>> def f():\n",
      "   ...     try:\n",
      "   ...         1/0\n",
      "   ...     finally:\n",
      "   ...         return 42\n",
      "   ...\n",
      "   >>> f()\n",
      "   42\n",
      "\n",
      "The exception information is not available to the program during\n",
      "execution of the \"finally\" clause.\n",
      "\n",
      "When a \"return\", \"break\" or \"continue\" statement is executed in the\n",
      "\"try\" suite of a \"try\"…\"finally\" statement, the \"finally\" clause is\n",
      "also executed ‘on the way out.’\n",
      "\n",
      "The return value of a function is determined by the last \"return\"\n",
      "statement executed.  Since the \"finally\" clause always executes, a\n",
      "\"return\" statement executed in the \"finally\" clause will always be the\n",
      "last one executed:\n",
      "\n",
      "   >>> def foo():\n",
      "   ...     try:\n",
      "   ...         return 'try'\n",
      "   ...     finally:\n",
      "   ...         return 'finally'\n",
      "   ...\n",
      "   >>> foo()\n",
      "   'finally'\n",
      "\n",
      "Additional information on exceptions can be found in section\n",
      "Exceptions, and information on using the \"raise\" statement to generate\n",
      "exceptions may be found in section The raise statement.\n",
      "\n",
      "Changed in version 3.8: Prior to Python 3.8, a \"continue\" statement\n",
      "was illegal in the \"finally\" clause due to a problem with the\n",
      "implementation.\n",
      "\n",
      "Related help topics: EXCEPTIONS\n",
      "\n"
     ]
    }
   ],
   "source": [
    "help('except')"
   ]
  },
  {
   "cell_type": "code",
   "execution_count": 3,
   "metadata": {},
   "outputs": [
    {
     "name": "stdout",
     "output_type": "stream",
     "text": [
      "Help on class Exception in module builtins:\n",
      "\n",
      "class Exception(BaseException)\n",
      " |  Common base class for all non-exit exceptions.\n",
      " |  \n",
      " |  Method resolution order:\n",
      " |      Exception\n",
      " |      BaseException\n",
      " |      object\n",
      " |  \n",
      " |  Built-in subclasses:\n",
      " |      ArithmeticError\n",
      " |      AssertionError\n",
      " |      AttributeError\n",
      " |      BufferError\n",
      " |      ... and 15 other subclasses\n",
      " |  \n",
      " |  Methods defined here:\n",
      " |  \n",
      " |  __init__(self, /, *args, **kwargs)\n",
      " |      Initialize self.  See help(type(self)) for accurate signature.\n",
      " |  \n",
      " |  ----------------------------------------------------------------------\n",
      " |  Static methods defined here:\n",
      " |  \n",
      " |  __new__(*args, **kwargs) from builtins.type\n",
      " |      Create and return a new object.  See help(type) for accurate signature.\n",
      " |  \n",
      " |  ----------------------------------------------------------------------\n",
      " |  Methods inherited from BaseException:\n",
      " |  \n",
      " |  __delattr__(self, name, /)\n",
      " |      Implement delattr(self, name).\n",
      " |  \n",
      " |  __getattribute__(self, name, /)\n",
      " |      Return getattr(self, name).\n",
      " |  \n",
      " |  __reduce__(...)\n",
      " |      Helper for pickle.\n",
      " |  \n",
      " |  __repr__(self, /)\n",
      " |      Return repr(self).\n",
      " |  \n",
      " |  __setattr__(self, name, value, /)\n",
      " |      Implement setattr(self, name, value).\n",
      " |  \n",
      " |  __setstate__(...)\n",
      " |  \n",
      " |  __str__(self, /)\n",
      " |      Return str(self).\n",
      " |  \n",
      " |  with_traceback(...)\n",
      " |      Exception.with_traceback(tb) --\n",
      " |      set self.__traceback__ to tb and return self.\n",
      " |  \n",
      " |  ----------------------------------------------------------------------\n",
      " |  Data descriptors inherited from BaseException:\n",
      " |  \n",
      " |  __cause__\n",
      " |      exception cause\n",
      " |  \n",
      " |  __context__\n",
      " |      exception context\n",
      " |  \n",
      " |  __dict__\n",
      " |  \n",
      " |  __suppress_context__\n",
      " |  \n",
      " |  __traceback__\n",
      " |  \n",
      " |  args\n",
      "\n"
     ]
    }
   ],
   "source": [
    "help(Exception)"
   ]
  },
  {
   "cell_type": "code",
   "execution_count": 4,
   "metadata": {},
   "outputs": [
    {
     "data": {
      "text/plain": [
       "['__cause__',\n",
       " '__class__',\n",
       " '__context__',\n",
       " '__delattr__',\n",
       " '__dict__',\n",
       " '__dir__',\n",
       " '__doc__',\n",
       " '__eq__',\n",
       " '__format__',\n",
       " '__ge__',\n",
       " '__getattribute__',\n",
       " '__gt__',\n",
       " '__hash__',\n",
       " '__init__',\n",
       " '__init_subclass__',\n",
       " '__le__',\n",
       " '__lt__',\n",
       " '__ne__',\n",
       " '__new__',\n",
       " '__reduce__',\n",
       " '__reduce_ex__',\n",
       " '__repr__',\n",
       " '__setattr__',\n",
       " '__setstate__',\n",
       " '__sizeof__',\n",
       " '__str__',\n",
       " '__subclasshook__',\n",
       " '__suppress_context__',\n",
       " '__traceback__',\n",
       " 'args',\n",
       " 'with_traceback']"
      ]
     },
     "execution_count": 4,
     "metadata": {},
     "output_type": "execute_result"
    }
   ],
   "source": [
    "dir(Exception)"
   ]
  },
  {
   "cell_type": "code",
   "execution_count": 17,
   "metadata": {},
   "outputs": [
    {
     "name": "stdout",
     "output_type": "stream",
     "text": [
      "['ArithmeticError', 'AssertionError', 'AttributeError', 'BlockingIOError', 'BrokenPipeError', 'BufferError', 'ChildProcessError', 'ConnectionAbortedError', 'ConnectionError', 'ConnectionRefusedError', 'ConnectionResetError', 'EOFError', 'EnvironmentError', 'FileExistsError', 'FileNotFoundError', 'FloatingPointError', 'IOError', 'ImportError', 'IndentationError', 'IndexError', 'InterruptedError', 'IsADirectoryError', 'KeyError', 'LookupError', 'MemoryError', 'ModuleNotFoundError', 'NameError', 'NotADirectoryError', 'NotImplementedError', 'OSError', 'OverflowError', 'PermissionError', 'ProcessLookupError', 'RecursionError', 'ReferenceError', 'RuntimeError', 'SyntaxError', 'SystemError', 'TabError', 'TimeoutError', 'TypeError', 'UnboundLocalError', 'UnicodeDecodeError', 'UnicodeEncodeError', 'UnicodeError', 'UnicodeTranslateError', 'ValueError', 'WindowsError', 'ZeroDivisionError']\n"
     ]
    }
   ],
   "source": [
    "import builtins\n",
    "builtin_exception=[name for name in dir(builtins)if name.endswith('Error')]\n",
    "print(builtin_exception)"
   ]
  },
  {
   "cell_type": "code",
   "execution_count": 18,
   "metadata": {},
   "outputs": [
    {
     "name": "stdout",
     "output_type": "stream",
     "text": [
      "Help on class ArithmeticError in module builtins:\n",
      "\n",
      "class ArithmeticError(Exception)\n",
      " |  Base class for arithmetic errors.\n",
      " |  \n",
      " |  Method resolution order:\n",
      " |      ArithmeticError\n",
      " |      Exception\n",
      " |      BaseException\n",
      " |      object\n",
      " |  \n",
      " |  Built-in subclasses:\n",
      " |      FloatingPointError\n",
      " |      OverflowError\n",
      " |      ZeroDivisionError\n",
      " |  \n",
      " |  Methods defined here:\n",
      " |  \n",
      " |  __init__(self, /, *args, **kwargs)\n",
      " |      Initialize self.  See help(type(self)) for accurate signature.\n",
      " |  \n",
      " |  ----------------------------------------------------------------------\n",
      " |  Static methods defined here:\n",
      " |  \n",
      " |  __new__(*args, **kwargs) from builtins.type\n",
      " |      Create and return a new object.  See help(type) for accurate signature.\n",
      " |  \n",
      " |  ----------------------------------------------------------------------\n",
      " |  Methods inherited from BaseException:\n",
      " |  \n",
      " |  __delattr__(self, name, /)\n",
      " |      Implement delattr(self, name).\n",
      " |  \n",
      " |  __getattribute__(self, name, /)\n",
      " |      Return getattr(self, name).\n",
      " |  \n",
      " |  __reduce__(...)\n",
      " |      Helper for pickle.\n",
      " |  \n",
      " |  __repr__(self, /)\n",
      " |      Return repr(self).\n",
      " |  \n",
      " |  __setattr__(self, name, value, /)\n",
      " |      Implement setattr(self, name, value).\n",
      " |  \n",
      " |  __setstate__(...)\n",
      " |  \n",
      " |  __str__(self, /)\n",
      " |      Return str(self).\n",
      " |  \n",
      " |  with_traceback(...)\n",
      " |      Exception.with_traceback(tb) --\n",
      " |      set self.__traceback__ to tb and return self.\n",
      " |  \n",
      " |  ----------------------------------------------------------------------\n",
      " |  Data descriptors inherited from BaseException:\n",
      " |  \n",
      " |  __cause__\n",
      " |      exception cause\n",
      " |  \n",
      " |  __context__\n",
      " |      exception context\n",
      " |  \n",
      " |  __dict__\n",
      " |  \n",
      " |  __suppress_context__\n",
      " |  \n",
      " |  __traceback__\n",
      " |  \n",
      " |  args\n",
      "\n"
     ]
    }
   ],
   "source": [
    "help(builtins.ArithmeticError)"
   ]
  },
  {
   "cell_type": "code",
   "execution_count": 6,
   "metadata": {},
   "outputs": [
    {
     "name": "stdout",
     "output_type": "stream",
     "text": [
      "FileNotFoundError\n"
     ]
    }
   ],
   "source": [
    "\n",
    "try:\n",
    "    import pandas as pd\n",
    "    df=pd.read_excel(\"xy.xlsx\")\n",
    "except:\n",
    "    print(\"FileNotFoundError\")\n"
   ]
  },
  {
   "cell_type": "code",
   "execution_count": 10,
   "metadata": {},
   "outputs": [
    {
     "name": "stdout",
     "output_type": "stream",
     "text": [
      "That is not a positive number!\n"
     ]
    }
   ],
   "source": [
    "try:\n",
    "    a = int(input(\"Enter a positive integer: \"))\n",
    "    if a <= 0:\n",
    "         raise ValueError(\"That is not a positive number!\")\n",
    "except ValueError as ve:\n",
    "    print(ve)"
   ]
  },
  {
   "cell_type": "code",
   "execution_count": 11,
   "metadata": {},
   "outputs": [
    {
     "name": "stdout",
     "output_type": "stream",
     "text": [
      "The input is not supported.\n",
      "-8  is not a positive integer.\n",
      "The input is not supported.\n",
      "2.1  is not a positive integer.\n"
     ]
    },
    {
     "name": "stderr",
     "output_type": "stream",
     "text": [
      "C:\\Users\\TEMP.JS-L1-31\\AppData\\Local\\Temp\\ipykernel_8988\\1872411751.py:5: DeprecationWarning: Using factorial() with floats is deprecated\n",
      "  number_factorial = math.factorial(number)\n"
     ]
    }
   ],
   "source": [
    "import math\n",
    "integers = ['orange',6,-8,'apple',2.10]\n",
    "for number in integers:\n",
    "    try:\n",
    "        number_factorial = math.factorial(number)\n",
    "    except TypeError:\n",
    "        print(\"The input is not supported.\")\n",
    "    except ValueError:\n",
    "        print( number,\" is not a positive integer.\")"
   ]
  },
  {
   "cell_type": "code",
   "execution_count": 16,
   "metadata": {},
   "outputs": [
    {
     "name": "stdout",
     "output_type": "stream",
     "text": [
      "0.2222222222222222\n",
      "number is in str format\n"
     ]
    }
   ],
   "source": [
    "import sys\n",
    "try:\n",
    "    n=9\n",
    "    m=2\n",
    "    c=m/n\n",
    "    print(c)\n",
    "except(ZeroDivisionError)as e:\n",
    "    print(\"zero can't be divided\")\n",
    "try:\n",
    "    n=2\n",
    "    m='3'\n",
    "    p=m+n\n",
    "except TypeError:\n",
    "    print(\"number is in str format\")"
   ]
  },
  {
   "cell_type": "code",
   "execution_count": null,
   "metadata": {},
   "outputs": [],
   "source": []
  }
 ],
 "metadata": {
  "kernelspec": {
   "display_name": "venv",
   "language": "python",
   "name": "python3"
  },
  "language_info": {
   "codemirror_mode": {
    "name": "ipython",
    "version": 3
   },
   "file_extension": ".py",
   "mimetype": "text/x-python",
   "name": "python",
   "nbconvert_exporter": "python",
   "pygments_lexer": "ipython3",
   "version": "3.9.6"
  }
 },
 "nbformat": 4,
 "nbformat_minor": 2
}
